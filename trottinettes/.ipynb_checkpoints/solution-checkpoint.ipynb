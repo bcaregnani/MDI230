{
 "cells": [
  {
   "cell_type": "markdown",
   "id": "limited-lawrence",
   "metadata": {},
   "source": [
    "# Projet Trottinettes\n",
    "\n",
    "**MDI230 - Files d'attente**\n",
    "\n",
    "S2-P4 2022/23\n",
    "\n",
    "* MONTES, Julia Soledad.\n",
    "* PARAFATI, Mauro.\n",
    "* PONS, Bruno."
   ]
  },
  {
   "cell_type": "markdown",
   "id": "interesting-vocabulary",
   "metadata": {},
   "source": [
    "## 1. Modalités\n",
    "\n",
    "Le travail peut se faire en monôme, binôme, ou trinôme. Les groupes ne peuvent pas changer pendant la durée du projet ou d’un projet à l’autre. Vous pouvez faire la simulation dans le langage de votre choix, nous vous conseillons Python ou Matlab. Une attention toute particulière sera donnée à la rédaction de vos rapports. Par exemple, un bout de code Python non explicité par ailleurs ne donnera aucun point. Le format privilégié est Jupyter notebook qui donne la possibilité d’intégrer à la fois le code Python, les calculs théoriques en Markdown, et la rédaction. Nous rappelons que le plagiat est interdit. Tout plagiat partiel ou total entre étudiants de l’UE, ou sur des ressources extérieures sera sanctionné par la note de 0, et pourra faire l’objet d’un signalement à la Direction de l’Enseignement pour une sanction plus forte. L’inscription au groupe et les rendus se font exclusivement sur le site pédagogique eCampus de l’UE. La date limite pour le rendu est le 27 juin 2023 à 23h59."
   ]
  },
  {
   "cell_type": "markdown",
   "id": "horizontal-adams",
   "metadata": {},
   "source": [
    "## 2. Présentation\n",
    "\n",
    "On considère un système de **trottinettes électriques** en libres services :\n",
    "\n",
    "* Les trottinettes peuvent être empruntées et déposées n’importe où.\n",
    "* Lorsqu’une trottinette a sa batterie vide, un prestataire vient la chercher pour la recharger.\n",
    "* Lorsqu’une trottinette est en panne, un technicien vient la chercher pour la réparer.\n",
    "* Il y a une flotte de $N$ trottinettes.\n",
    "* Le taux d’emprunt moyen est de $λ$ trottinettes par minute.\n",
    "* On note $t_{trajet}$ le temps moyen d’un trajet par un utilisateur.\n",
    "* On considère que chaque trottinette a une probabilité $p_{panne}$ de tomber en panne et une probabilité $p_{vide}$ d’avoir sa batterie vide lorsqu’elle est utilisée.\n",
    "* On suppose qu’une trottinette non utilisée ne peut pas tomber en panne ou avoir une batterie vide. \n",
    "* On note enfin $t_{intervention}$ le temps moyen d’intervention d’un prestataire ou d’un technicien, $t_{recharge}$ le temps moyen de recharge de la batterie d’une trottinette, et $t_{réparation}$ le temps moyen de réparation pour une trottinette.\n",
    "* On considère qu’il y a suffisamment de prestataires et de techniciens pour chercher, charger et réparer les trottinettes qui en ont besoin simultanément.\n",
    "* On suppose que les trottinettes sont toujours réparables."
   ]
  },
  {
   "cell_type": "markdown",
   "id": "julian-ratio",
   "metadata": {},
   "source": [
    "## 3. Valeurs numériques des paramètres\n",
    "\n",
    "Les valeurs numériques des paramètres sont données ci-dessous :\n",
    "\n",
    "* $N = 100$\n",
    "* $λ = 0.1 \\text{ min}^{−1}$\n",
    "* $t_{trajet} = 5 \\text{ min}$\n",
    "* $p_{panne} = 0.01$\n",
    "* $p_{vide} = 0.1$\n",
    "* $t_{intervention} = 30 \\text{ min}$\n",
    "* $t_{recharge} = 240 \\text{ min}$\n",
    "* $t_{réparation} = 720 \\text{ min}$"
   ]
  },
  {
   "cell_type": "markdown",
   "id": "corporate-lithuania",
   "metadata": {},
   "source": [
    "## 4. Travail à effectuer"
   ]
  },
  {
   "cell_type": "markdown",
   "id": "atmospheric-retrieval",
   "metadata": {},
   "source": [
    "### 1. Proposez un processus de Markov permettant de modéliser ce système à partir d’un modèle vu en cours. Vous préciserez l’espace d’état et les différents paramètres du système, vous pouvez vous aider d’un diagramme de transitions."
   ]
  },
  {
   "cell_type": "code",
   "execution_count": null,
   "id": "innocent-coaching",
   "metadata": {},
   "outputs": [],
   "source": []
  },
  {
   "cell_type": "markdown",
   "id": "german-livestock",
   "metadata": {},
   "source": [
    "### 2. Calibrez votre modèle en explicitant vos paramètres en fonction des données de l’énoncé."
   ]
  },
  {
   "cell_type": "code",
   "execution_count": null,
   "id": "institutional-official",
   "metadata": {},
   "outputs": [],
   "source": []
  },
  {
   "cell_type": "markdown",
   "id": "therapeutic-territory",
   "metadata": {},
   "source": [
    "###  3. Donnez l’expression de la probabilité stationnaire théorique de votre modèle."
   ]
  },
  {
   "cell_type": "code",
   "execution_count": null,
   "id": "royal-pantyhose",
   "metadata": {},
   "outputs": [],
   "source": []
  },
  {
   "cell_type": "markdown",
   "id": "further-authorization",
   "metadata": {},
   "source": [
    "### 4. Simulez les trajectoires de votre modèle sur au moins 100h."
   ]
  },
  {
   "cell_type": "code",
   "execution_count": null,
   "id": "known-cuisine",
   "metadata": {},
   "outputs": [],
   "source": []
  },
  {
   "cell_type": "markdown",
   "id": "heard-highland",
   "metadata": {},
   "source": [
    "### 5. Validez votre simulation grâce aux résultats théoriques. Pour cela, on limitera le nombre de trottinettes à $N = 2$. Vous devrez proposer deux manières d’approcher la probabilité stationnaire par vos simulations. On rappelle qu’une simulation est valide si les résultats théoriques sont dans l’intervalle de confiance des résultats simulés."
   ]
  },
  {
   "cell_type": "code",
   "execution_count": null,
   "id": "capable-boost",
   "metadata": {},
   "outputs": [],
   "source": []
  },
  {
   "cell_type": "markdown",
   "id": "heavy-privilege",
   "metadata": {},
   "source": [
    "### 6. Que faut-il changer au modèle si on considère finalement qu’il y a un nombre fini de prestataires $n_p$ et un nombre fini de techniciens $n_t$ ?"
   ]
  },
  {
   "cell_type": "code",
   "execution_count": null,
   "id": "fewer-murder",
   "metadata": {},
   "outputs": [],
   "source": []
  }
 ],
 "metadata": {
  "kernelspec": {
   "display_name": "Python 3",
   "language": "python",
   "name": "python3"
  },
  "language_info": {
   "codemirror_mode": {
    "name": "ipython",
    "version": 3
   },
   "file_extension": ".py",
   "mimetype": "text/x-python",
   "name": "python",
   "nbconvert_exporter": "python",
   "pygments_lexer": "ipython3",
   "version": "3.9.2"
  }
 },
 "nbformat": 4,
 "nbformat_minor": 5
}
