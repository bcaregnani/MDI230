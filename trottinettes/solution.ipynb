{
 "cells": [
  {
   "cell_type": "markdown",
   "id": "limited-lawrence",
   "metadata": {},
   "source": [
    "<div style='background-color: #72b356; color: #ffffff; padding: 20px 40px; text-align: center;'>\n",
    "    <h1 style='font-size: 42px; padding: 0px; margin: 0px; margin-bottom: 5px;'>Projet Trottinettes</h1>\n",
    "    <h2 style='font-size: 24px; padding: 0px; margin: 0px;'>MDI230 - Files d'attente (S2-P4)</h2>\n",
    "    <h3 style='font-size: 12px;'>Bruno Pons, Julia Soledad Montes, Mauro Parafati</h3>\n",
    "</div>"
   ]
  },
  {
   "cell_type": "markdown",
   "id": "ad64a906",
   "metadata": {},
   "source": [
    "<div style='background-color: #ffffff; color: #72b356; border: 5px solid #72b356; padding: 20px 40px;'>\n",
    "    <h1 style='font-size: 32px; padding: 0px; margin: 0px;'>Table of Contents</h1>\n",
    "</div>\n",
    "\n",
    "* [Setup](#Setup) *(imports, libraries installation, etc)*\n",
    "* [Modalités](#1.-Modalités)\n",
    "* [Présentation](#2.-Présentation)\n",
    "* [Valeurs numériques des paramètres](#3.-Valeurs-numériques-des-paramètres)\n",
    "* [Travail à effectuer](#4.-Travail-à-effectuer)\n",
    "    * [Question 1](#Question-1)\n",
    "    * [Question 2](#Question-2)\n",
    "    * [Question 3](#Question-3)\n",
    "    * [Question 4](#Question-4)\n",
    "    * [Question 5](#Question-5)\n",
    "    * [Question 6](#Question-6)"
   ]
  },
  {
   "cell_type": "markdown",
   "id": "8c4ea6be",
   "metadata": {},
   "source": [
    "<div style='background-color: #ffffff; color: #3b3b3b; border: 5px solid #3b3b3b; padding: 20px 40px;'>\n",
    "    <h1 style='font-size: 32px; padding: 0px; margin: 0px;'>Setup</h1>\n",
    "</div>"
   ]
  },
  {
   "cell_type": "code",
   "execution_count": null,
   "id": "fdc4cfe7",
   "metadata": {},
   "outputs": [],
   "source": [
    "!pip install graphviz"
   ]
  },
  {
   "cell_type": "code",
   "execution_count": null,
   "id": "25e58201",
   "metadata": {},
   "outputs": [],
   "source": [
    "import numpy as np\n",
    "import scipy.stats\n",
    "import matplotlib.pyplot as plt\n",
    "import statistics \n",
    "import graphviz"
   ]
  },
  {
   "cell_type": "markdown",
   "id": "af4050ea",
   "metadata": {},
   "source": [
    "<div style='background-color: #ffffff; color: #f09516; border: 5px solid #f09516; padding: 20px 40px;'>\n",
    "    <h1 style='font-size: 32px; padding: 0px; margin: 0px; margin-bottom: 5px;'>1. Modalités</h1>\n",
    "</div>\n",
    "\n",
    "Le travail peut se faire en monôme, binôme, ou trinôme. Les groupes ne peuvent pas changer pendant la durée du projet ou d’un projet à l’autre. Vous pouvez faire la simulation dans le langage de votre choix, nous vous conseillons Python ou Matlab. Une attention toute particulière sera donnée à la rédaction de vos rapports. Par exemple, un bout de code Python non explicité par ailleurs ne donnera aucun point. Le format privilégié est Jupyter notebook qui donne la possibilité d’intégrer à la fois le code Python, les calculs théoriques en Markdown, et la rédaction. Nous rappelons que le plagiat est interdit. Tout plagiat partiel ou total entre étudiants de l’UE, ou sur des ressources extérieures sera sanctionné par la note de 0, et pourra faire l’objet d’un signalement à la Direction de l’Enseignement pour une sanction plus forte. L’inscription au groupe et les rendus se font exclusivement sur le site pédagogique eCampus de l’UE. La date limite pour le rendu est le 27 juin 2023 à 23h59."
   ]
  },
  {
   "cell_type": "markdown",
   "id": "horizontal-adams",
   "metadata": {},
   "source": [
    "<div style='background-color: #ffffff; color: #910c22; border: 5px solid #910c22; padding: 20px 40px;'>\n",
    "    <h1 style='font-size: 32px; padding: 0px; margin: 0px; margin-bottom: 5px;'>2. Présentation</h1>\n",
    "</div>\n",
    "\n",
    "On considère un système de **trottinettes électriques** en libres services :\n",
    "\n",
    "* Les trottinettes peuvent être empruntées et déposées n’importe où.\n",
    "* Lorsqu’une trottinette a sa batterie vide, un prestataire vient la chercher pour la recharger.\n",
    "* Lorsqu’une trottinette est en panne, un technicien vient la chercher pour la réparer.\n",
    "* Il y a une flotte de $N$ trottinettes.\n",
    "* Le taux d’emprunt moyen est de $λ$ trottinettes par minute.\n",
    "* On note $t_{trajet}$ le temps moyen d’un trajet par un utilisateur.\n",
    "* On considère que chaque trottinette a une probabilité $p_{panne}$ de tomber en panne et une probabilité $p_{vide}$ d’avoir sa batterie vide lorsqu’elle est utilisée.\n",
    "* On suppose qu’une trottinette non utilisée ne peut pas tomber en panne ou avoir une batterie vide. \n",
    "* On note enfin $t_{intervention}$ le temps moyen d’intervention d’un prestataire ou d’un technicien, $t_{recharge}$ le temps moyen de recharge de la batterie d’une trottinette, et $t_{réparation}$ le temps moyen de réparation pour une trottinette.\n",
    "* On considère qu’il y a suffisamment de prestataires et de techniciens pour chercher, charger et réparer les trottinettes qui en ont besoin simultanément.\n",
    "* On suppose que les trottinettes sont toujours réparables."
   ]
  },
  {
   "cell_type": "markdown",
   "id": "julian-ratio",
   "metadata": {},
   "source": [
    "<div style='background-color: #ffffff; color: #05754e; border: 5px solid #05754e; padding: 20px 40px;'>\n",
    "    <h1 style='font-size: 32px; padding: 0px; margin: 0px; margin-bottom: 5px;'>3. Valeurs numériques des paramètres</h1>\n",
    "</div>\n",
    "\n",
    "Les valeurs numériques des paramètres sont données ci-dessous :\n",
    "\n",
    "* $N = 100$\n",
    "* $λ = 0.1 \\text{ min}^{−1}$\n",
    "* $t_{trajet} = 5 \\text{ min}$\n",
    "* $p_{panne} = 0.01$\n",
    "* $p_{vide} = 0.1$\n",
    "* $t_{intervention} = 30 \\text{ min}$\n",
    "* $t_{recharge} = 240 \\text{ min}$\n",
    "* $t_{réparation} = 720 \\text{ min}$"
   ]
  },
  {
   "cell_type": "code",
   "execution_count": 6,
   "id": "bec52f1e",
   "metadata": {},
   "outputs": [],
   "source": [
    "N = 100 # Number of scooters\n",
    "λ = 0.1  # Average borrowing rate per minute (in min ^-1)\n",
    "t_journey = 5 # Average journey time by one user (in min)\n",
    "p_breakdown = 0.01 # Probability of breakdown\n",
    "p_empty = 0.1 # Probability of having its battery empty while it is being used\n",
    "t_intervention = 30 # Average time of intervention taken  by a service provider or technician (in min)\n",
    "t_recharge = 240 # Average time taken to recharge the battery of a scooter (in min)\n",
    "t_repair = 720 # Average repair time for a scooter (in min)"
   ]
  },
  {
   "cell_type": "markdown",
   "id": "corporate-lithuania",
   "metadata": {},
   "source": [
    "<div style='background-color: #ffffff; color: #026be3; border: 5px solid #026be3; padding: 20px 40px;'>\n",
    "    <h1 style='font-size: 32px; padding: 0px; margin: 0px; margin-bottom: 5px;'>4. Travail à effectuer</h1>\n",
    "</div>"
   ]
  },
  {
   "cell_type": "markdown",
   "id": "atmospheric-retrieval",
   "metadata": {},
   "source": [
    "<h2 style='color: #026be3;'>Question 1</h2>\n",
    "<p style='color: #026be3;'>Proposez un processus de Markov permettant de modéliser ce système à partir d’un modèle vu en cours. Vous préciserez l’espace d’état et les différents paramètres du système, vous pouvez vous aider d’un diagramme de transitions.</p>"
   ]
  },
  {
   "cell_type": "markdown",
   "id": "4f42a866",
   "metadata": {},
   "source": [
    "To model the self-service electric scooter system as a Markov process we used the colonies model. Where each colony, represents the different state a scooter can be in. The possible states in this system are as follows:\n",
    "\n",
    "- Available : The scooter is available for borrowing and is in working condition.\n",
    "- In use: The scooter has been borrowed and is currently in use by a user.\n",
    "- Broken down: The scooter has encountered a breakdown and requires repair.\n",
    "- Battery empty: The scooter's battery has been depleted and needs to be recharged."
   ]
  },
  {
   "cell_type": "code",
   "execution_count": 9,
   "id": "innocent-coaching",
   "metadata": {},
   "outputs": [
    {
     "data": {
      "image/svg+xml": [
       "<?xml version=\"1.0\" encoding=\"UTF-8\" standalone=\"no\"?>\n",
       "<!DOCTYPE svg PUBLIC \"-//W3C//DTD SVG 1.1//EN\"\n",
       " \"http://www.w3.org/Graphics/SVG/1.1/DTD/svg11.dtd\">\n",
       "<!-- Generated by graphviz version 2.43.0 (0)\n",
       " -->\n",
       "<!-- Title: %3 Pages: 1 -->\n",
       "<svg width=\"372pt\" height=\"218pt\"\n",
       " viewBox=\"0.00 0.00 371.88 218.00\" xmlns=\"http://www.w3.org/2000/svg\" xmlns:xlink=\"http://www.w3.org/1999/xlink\">\n",
       "<g id=\"graph0\" class=\"graph\" transform=\"scale(1 1) rotate(0) translate(4 214)\">\n",
       "<title>%3</title>\n",
       "<polygon fill=\"white\" stroke=\"transparent\" points=\"-4,4 -4,-214 367.88,-214 367.88,4 -4,4\"/>\n",
       "<!-- A -->\n",
       "<g id=\"node1\" class=\"node\">\n",
       "<title>A</title>\n",
       "<ellipse fill=\"none\" stroke=\"black\" cx=\"181.19\" cy=\"-192\" rx=\"64.99\" ry=\"18\"/>\n",
       "<text text-anchor=\"middle\" x=\"181.19\" y=\"-188.3\" font-family=\"Times,serif\" font-size=\"14.00\">1: Available</text>\n",
       "</g>\n",
       "<!-- U -->\n",
       "<g id=\"node2\" class=\"node\">\n",
       "<title>U</title>\n",
       "<ellipse fill=\"none\" stroke=\"black\" cx=\"185.19\" cy=\"-105\" rx=\"50.89\" ry=\"18\"/>\n",
       "<text text-anchor=\"middle\" x=\"185.19\" y=\"-101.3\" font-family=\"Times,serif\" font-size=\"14.00\">2: In use</text>\n",
       "</g>\n",
       "<!-- A&#45;&gt;U -->\n",
       "<g id=\"edge1\" class=\"edge\">\n",
       "<title>A&#45;&gt;U</title>\n",
       "<path fill=\"none\" stroke=\"black\" d=\"M165.8,-174.27C158.93,-164.74 153.18,-152.45 157.19,-141 158.52,-137.23 160.44,-133.56 162.66,-130.1\"/>\n",
       "<polygon fill=\"black\" stroke=\"black\" points=\"165.51,-132.13 168.65,-122.02 159.89,-127.97 165.51,-132.13\"/>\n",
       "<text text-anchor=\"middle\" x=\"171.19\" y=\"-144.8\" font-family=\"Times,serif\" font-size=\"14.00\">λ12</text>\n",
       "</g>\n",
       "<!-- U&#45;&gt;A -->\n",
       "<g id=\"edge2\" class=\"edge\">\n",
       "<title>U&#45;&gt;A</title>\n",
       "<path fill=\"none\" stroke=\"black\" d=\"M185.67,-123.14C185.82,-132.8 185.81,-145.08 185.19,-156 185.05,-158.56 184.84,-161.23 184.6,-163.89\"/>\n",
       "<polygon fill=\"black\" stroke=\"black\" points=\"181.11,-163.63 183.54,-173.94 188.07,-164.37 181.11,-163.63\"/>\n",
       "<text text-anchor=\"middle\" x=\"200.19\" y=\"-144.8\" font-family=\"Times,serif\" font-size=\"14.00\">λ21</text>\n",
       "</g>\n",
       "<!-- B -->\n",
       "<g id=\"node3\" class=\"node\">\n",
       "<title>B</title>\n",
       "<ellipse fill=\"none\" stroke=\"black\" cx=\"83.19\" cy=\"-18\" rx=\"83.39\" ry=\"18\"/>\n",
       "<text text-anchor=\"middle\" x=\"83.19\" y=\"-14.3\" font-family=\"Times,serif\" font-size=\"14.00\">3: Broken down</text>\n",
       "</g>\n",
       "<!-- U&#45;&gt;B -->\n",
       "<g id=\"edge3\" class=\"edge\">\n",
       "<title>U&#45;&gt;B</title>\n",
       "<path fill=\"none\" stroke=\"black\" d=\"M166.01,-88.01C150.53,-75.12 128.56,-56.8 111.13,-42.28\"/>\n",
       "<polygon fill=\"black\" stroke=\"black\" points=\"112.91,-39.21 102.99,-35.5 108.43,-44.59 112.91,-39.21\"/>\n",
       "<text text-anchor=\"middle\" x=\"155.19\" y=\"-57.8\" font-family=\"Times,serif\" font-size=\"14.00\">λ23</text>\n",
       "</g>\n",
       "<!-- E -->\n",
       "<g id=\"node4\" class=\"node\">\n",
       "<title>E</title>\n",
       "<ellipse fill=\"none\" stroke=\"black\" cx=\"274.19\" cy=\"-18\" rx=\"89.88\" ry=\"18\"/>\n",
       "<text text-anchor=\"middle\" x=\"274.19\" y=\"-14.3\" font-family=\"Times,serif\" font-size=\"14.00\">4: Battery empty</text>\n",
       "</g>\n",
       "<!-- U&#45;&gt;E -->\n",
       "<g id=\"edge4\" class=\"edge\">\n",
       "<title>U&#45;&gt;E</title>\n",
       "<path fill=\"none\" stroke=\"black\" d=\"M199.13,-87.68C207.98,-77.63 219.85,-64.67 231.19,-54 235.5,-49.94 240.22,-45.81 244.91,-41.88\"/>\n",
       "<polygon fill=\"black\" stroke=\"black\" points=\"247.17,-44.55 252.68,-35.5 242.73,-39.14 247.17,-44.55\"/>\n",
       "<text text-anchor=\"middle\" x=\"245.19\" y=\"-57.8\" font-family=\"Times,serif\" font-size=\"14.00\">λ24</text>\n",
       "</g>\n",
       "<!-- B&#45;&gt;A -->\n",
       "<g id=\"edge5\" class=\"edge\">\n",
       "<title>B&#45;&gt;A</title>\n",
       "<path fill=\"none\" stroke=\"black\" d=\"M81.78,-36.04C80.79,-57.69 81.75,-95.52 97.19,-123 108.07,-142.36 126.85,-158.36 143.9,-169.96\"/>\n",
       "<polygon fill=\"black\" stroke=\"black\" points=\"142.31,-173.1 152.6,-175.62 146.13,-167.23 142.31,-173.1\"/>\n",
       "<text text-anchor=\"middle\" x=\"111.19\" y=\"-101.3\" font-family=\"Times,serif\" font-size=\"14.00\">λ31</text>\n",
       "</g>\n",
       "<!-- E&#45;&gt;A -->\n",
       "<g id=\"edge6\" class=\"edge\">\n",
       "<title>E&#45;&gt;A</title>\n",
       "<path fill=\"none\" stroke=\"black\" d=\"M271.67,-36C268.03,-57.27 260.05,-94.39 245.19,-123 236.41,-139.92 222.19,-155.64 209.38,-167.7\"/>\n",
       "<polygon fill=\"black\" stroke=\"black\" points=\"206.71,-165.4 201.65,-174.71 211.41,-170.59 206.71,-165.4\"/>\n",
       "<text text-anchor=\"middle\" x=\"273.19\" y=\"-101.3\" font-family=\"Times,serif\" font-size=\"14.00\">λ41</text>\n",
       "</g>\n",
       "</g>\n",
       "</svg>\n"
      ],
      "text/plain": [
       "<graphviz.graphs.Digraph at 0x7f57bc2b3e50>"
      ]
     },
     "execution_count": 9,
     "metadata": {},
     "output_type": "execute_result"
    }
   ],
   "source": [
    "dot = graphviz.Digraph()\n",
    "\n",
    "# Define the nodes\n",
    "dot.node('A', '1: Available')\n",
    "dot.node('U', '2: In use')\n",
    "dot.node('B', '3: Broken down')\n",
    "dot.node('E', '4: Battery empty')\n",
    "\n",
    "# Define the edges with labels\n",
    "dot.edge('A', 'U', 'λ12')\n",
    "dot.edge('U', 'A', 'λ21')\n",
    "dot.edge('U', 'B', 'λ23')\n",
    "dot.edge('U', 'E', 'λ24')\n",
    "dot.edge('B', 'A', 'λ31')\n",
    "dot.edge('E', 'A', 'λ41')\n",
    "\n",
    "# Render the graph\n",
    "dot"
   ]
  },
  {
   "cell_type": "markdown",
   "id": "5c4e7288",
   "metadata": {},
   "source": [
    "Legend:\n",
    "\n",
    "- $λ_{ij}$: Transition rate from state $i$ to state $j$\n",
    "- $λ_{12} = λ $\n",
    "- $λ_{21} = \\frac{1}{time_{journey}} * (1 - p_{breakdown} * p_{empty})$\n",
    "- $λ_{23} = \\frac{1}{t_{intervention}} * p_{breakdown}$\n",
    "- $λ_{24} = \\frac{1}{t_{intervention}} * p_{empty}$\n",
    "- $λ_{31} = \\frac{1}{t_{repair}}$\n",
    "- $λ_{31} = \\frac{1}{t_{recharge}}$\n"
   ]
  },
  {
   "cell_type": "markdown",
   "id": "f1296637",
   "metadata": {},
   "source": [
    "<!-- To model the self-service electric scooter system for N scooters, we can extend the Markov process to incorporate multiple scooters. The state space will now include the states for each individual scooter. Let's denote the state space as E, where each state represents the status of all N scooters. -->\n",
    "<!-- REWRITE THE ABOVE -->\n",
    "\n",
    "To model the self-service electric scooter system for N scooters, we can use the model of Colonies.\n",
    "\n",
    "The state space E can be defined as follows:\n",
    "\n",
    "$$E = \\{n = (n_1, n_2, n_3, n_4) | \\sum_{j=1}^{4} n_j = N \\}$$\n",
    "\n",
    "Where:\n",
    "\n",
    "There are 4 colonies and $n_j$ represents the number of scooters in a certain colony, each colony is described below:\n",
    "- $1$: Colony where scooter is available.\n",
    "- $2$: Colony where scooter is in use.\n",
    "- $3$: Colony where scooter is broken down.\n",
    "- $4$: Colony where scooter has an empty battery."
   ]
  },
  {
   "cell_type": "markdown",
   "id": "german-livestock",
   "metadata": {},
   "source": [
    "<h2 style='color: #026be3;'>Question 2</h2>\n",
    "<p style='color: #026be3;'>Calibrez votre modèle en explicitant vos paramètres en fonction des données de l’énoncé.</p>"
   ]
  },
  {
   "cell_type": "code",
   "execution_count": 265,
   "id": "institutional-official",
   "metadata": {},
   "outputs": [],
   "source": [
    "## Transition rates\n",
    "# q(n, Ti,j(n)) = phi_i(n_i) * lambda_ij\n",
    "# phi_1(n_1) = n_1\n",
    "# phi_2(n_2) = n_2\n",
    "# phi_3(n_3) = n_3\n",
    "# phi_4(n_4) = n_4\n",
    "lambda_12 = λ\n",
    "lambda_21 = 1/t_journey * (1 - p_breakdown * p_empty)\n",
    "lambda_23 = 1/t_intervention * p_breakdown\n",
    "lambda_24 = 1/t_intervention * p_empty\n",
    "lambda_31 = 1/t_repair\n",
    "lambda_41 = 1/t_recharge"
   ]
  },
  {
   "cell_type": "markdown",
   "id": "therapeutic-territory",
   "metadata": {},
   "source": [
    "<h2 style='color: #026be3;'>Question 3</h2>\n",
    "<p style='color: #026be3;'>Donnez l’expression de la probabilité stationnaire théorique de votre modèle.</p>"
   ]
  },
  {
   "cell_type": "markdown",
   "id": "11473b5e",
   "metadata": {},
   "source": [
    "By theorem:\n",
    "\n",
    "Theorem 2.4\n",
    "\n",
    "The equilibrium distribution for a closed migration process is\n",
    "$$\n",
    "\\pi(n)=K^{-1} \\prod_{j=1}^J \\frac{\\alpha_j^{n_j}}{\\prod_{r=1}^{n_j} \\phi_j(r)}, \\quad n \\in E\n",
    "$$\n",
    "Here, $K$ is a normalizing constant, chosen so the distribution sums to 1 , and $\\left(\\alpha_j\\right)$ are the solution to the traffic equations displayed below.\n",
    "\n",
    "$\\begin{gathered}\\alpha_j>0, \\quad \\sum_j \\alpha_j=1, \\\\ \\alpha_j \\sum_k \\lambda_{j k}=\\sum_k \\alpha_k \\lambda_{k j}, \\quad j=1,2, \\ldots, J .\\end{gathered}$\n",
    "\n",
    "In this particular case:\n",
    "$$\n",
    "\\pi(n)=K^{-1} \\frac{\\alpha_1^{n_1}}{n_1!} \\frac{\\alpha_2^{n_2}}{n_2!} \\frac{\\alpha_3^{n_3}}{n_3!} \\frac{\\alpha_4^{n_4}}{n_4!} , \\quad n \\in (n_1,n_2,n_3,n_4)\n",
    "$$"
   ]
  },
  {
   "cell_type": "code",
   "execution_count": 12,
   "id": "royal-pantyhose",
   "metadata": {},
   "outputs": [
    {
     "name": "stdout",
     "output_type": "stream",
     "text": [
      "[0.49934555 0.24541885 0.05890052 0.19633508]\n",
      "1.000000000000001\n"
     ]
    }
   ],
   "source": [
    "A = np.array([[lambda_12, -lambda_21, -lambda_31 ,-lambda_41],\n",
    "              [-lambda_12,lambda_21 + lambda_23 + lambda_24, 0 ,0],\n",
    "              [0,-lambda_23,lambda_31,0],\n",
    "              [lambda_24,0,lambda_24,lambda_24 + lambda_41]] )\n",
    "alphas = np.zeros(4)\n",
    "alphas = np.linalg.solve(A, np.array([0,0,0,lambda_24]))\n",
    "\n",
    "print(alphas)\n",
    "print(np.sum(alphas))"
   ]
  },
  {
   "cell_type": "markdown",
   "id": "further-authorization",
   "metadata": {},
   "source": [
    "<h2 style='color: #026be3;'>Question 4</h2>\n",
    "<p style='color: #026be3;'>Simulez les trajectoires de votre modèle sur au moins 100h.</p>"
   ]
  },
  {
   "cell_type": "code",
   "execution_count": 250,
   "id": "ab89d6f9",
   "metadata": {},
   "outputs": [],
   "source": [
    "def computeTransitionMatrix(_state):\n",
    "    \"\"\"\n",
    "    Compute the transition matrix for the given state.\n",
    "\n",
    "    Args:\n",
    "        _state (np.array 4x1): The state of the system\n",
    "\n",
    "    Returns:\n",
    "        tm (np.array 4x4) : The transition matrix\n",
    "    \"\"\"\n",
    "    \n",
    "    tm = np.array([[0,lambda_12*_state[0],0,0],\n",
    "                   [lambda_21*_state[1],0,lambda_23*_state[1],lambda_24*_state[1]],\n",
    "                   [lambda_31*_state[2],0,0,0],\n",
    "                   [lambda_41*_state[3],0,0,0]])\n",
    "    return tm\n",
    "\n",
    "\n",
    "\n",
    "def new_state(state, transition_matrix, lambda_tot):\n",
    "    \"\"\"\n",
    "    This function allows to determine the new state of our model.\n",
    "    To determine which event took place, we use the fact that the\n",
    "    probability that event i with parameter lambda_i is the one\n",
    "    that took place is lambda_i / lambda_tot.\n",
    "\n",
    "    Args:\n",
    "    - states: np.array of shape 4x1 which represents the number of\n",
    "...           scooters in each state.\n",
    "    - transition_matrix: np.array of shape 4x4 which represents the\n",
    "...                      transition matrix of the system.\n",
    "    - lambda_tot: sum of the parameters of the possible events.\n",
    "\n",
    "    Retruns:\n",
    "    - new_state: np.array of shape 4x1 which represents the new state\n",
    "...              of the system.\n",
    "    \"\"\"\n",
    "    \n",
    "    new_state = state.copy()\n",
    "    tm_arr = np.asarray(transition_matrix).reshape(-1)\n",
    "    choice = np.arange(16)\n",
    "    transition = np.random.choice(choice, p=tm_arr/lambda_tot)\n",
    "    match transition:\n",
    "        case 1:\n",
    "            new_state[0] -= 1\n",
    "            new_state[1] += 1\n",
    "        case 4:\n",
    "            new_state[1] -= 1\n",
    "            new_state[0] += 1\n",
    "        case 6:\n",
    "            new_state[1] -= 1\n",
    "            new_state[2] += 1\n",
    "        case 7:\n",
    "            new_state[1] -= 1\n",
    "            new_state[3] += 1\n",
    "        case 8:\n",
    "            new_state[2] -= 1\n",
    "            new_state[0] += 1\n",
    "        case 12:\n",
    "            new_state[3] -= 1\n",
    "            new_state[0] += 1\n",
    "        case _:\n",
    "            pass\n",
    "    return new_state\n",
    "\n",
    "\n",
    "\n",
    "def simulate_colony_model(sim_time, num_clients):\n",
    "    \"\"\"_summary_\n",
    "    Function that simulates the evolution of the colony model through time.\n",
    "\n",
    "    Args:\n",
    "        sim_time: Time of simulation (in min)\n",
    "        num_clients: Number of clients\n",
    "\n",
    "    Returns:\n",
    "        states: np.array of shape (n,4) which represents the change of\n",
    "...             state of the system through time.\n",
    "    \"\"\"\n",
    "    \n",
    "    \n",
    "    current_state = np.array([num_clients,0,0,0]) # Initial state\n",
    "    states = [current_state]\n",
    "    time = 0\n",
    "    t = 0\n",
    "    T = [time]\n",
    "\n",
    "    while time < sim_time:\n",
    "        tm = computeTransitionMatrix(current_state)\n",
    "        lambda_tot = np.sum(tm)\n",
    "        t = np.random.exponential(lambda_tot)\n",
    "        if time + t > sim_time:\n",
    "            break\n",
    "        time += t\n",
    "        T.append(int(time))\n",
    "        # According to the probability of each event, we draw the next event\n",
    "        current_state = new_state(current_state, tm, lambda_tot)\n",
    "        states.append(current_state)\n",
    "    \n",
    "    T = np.array(T)\n",
    "    states = np.array(states)\n",
    "    return states, T\n",
    "\n",
    "\n",
    "\n",
    "# Plot the evolution of the states through time\n",
    "def plot_simulation(states, time):\n",
    "    plt.figure(figsize=(15,5))\n",
    "    plt.plot(time, states[:,0], label='Available')\n",
    "    plt.plot(time, states[:,1], label='In use')\n",
    "    plt.plot(time, states[:,2], label='Broken down')\n",
    "    plt.plot(time, states[:,3], label='Battery empty')\n",
    "    plt.xlabel('Time (min)')\n",
    "    plt.ylabel('Number of scooters')\n",
    "    plt.title('Evolution of the number of scooters in each state through time')\n",
    "    plt.legend()\n",
    "    plt.show()"
   ]
  },
  {
   "cell_type": "code",
   "execution_count": 260,
   "id": "c73a6bde",
   "metadata": {},
   "outputs": [
    {
     "data": {
      "image/png": "[encoded data removed]",
      "text/plain": [
       "<Figure size 1500x500 with 1 Axes>"
      ]
     },
     "metadata": {},
     "output_type": "display_data"
    }
   ],
   "source": [
    "# Simulation parameters\n",
    "sim_time = 100*60\n",
    "num_scooters = 50\n",
    "\n",
    "# Run simulation\n",
    "states_sim, time = simulate_colony_model(sim_time, num_scooters)\n",
    "\n",
    "# Plot the results\n",
    "plot_simulation(states_sim, time)"
   ]
  },
  {
   "cell_type": "markdown",
   "id": "heard-highland",
   "metadata": {},
   "source": [
    "<h2 style='color: #026be3;'>Question 5</h2>\n",
    "<p style='color: #026be3;'>Validate your simulation thanks to the theoretical results. For this, we will limit the number of scooters to $N = 2$. You will have to propose two ways of approaching the stationary probability by your simulations. Remember that a simulation is valid if the theoretical results are within the confidence interval of the simulated results.</p>"
   ]
  },
  {
   "cell_type": "code",
   "execution_count": 243,
   "id": "f5320df8",
   "metadata": {},
   "outputs": [],
   "source": [
    "import itertools\n",
    "import math\n",
    "\n",
    "\n",
    "def possible_states(states, num_scooters):\n",
    "    \"\"\"\n",
    "    This function allows to determine the possible states of our model.\n",
    "\n",
    "    Args:\n",
    "    - states: num of possible scooter in a state.\n",
    "    - num_scooters: number of scooters in the system.\n",
    "    \n",
    "    Returns:\n",
    "    - possible_states: np.array of shape nx4 which represents the\n",
    "...                    possible states of the system.\n",
    "    \"\"\"\n",
    "    possibilities = [p for p in itertools.product(states, repeat=4)]\n",
    "    real_possibilities = []\n",
    "    for p in possibilities:\n",
    "        if sum(p) == num_scooters:\n",
    "            real_possibilities.append(p)\n",
    "    \n",
    "    return np.array(real_possibilities)\n",
    "\n",
    "\n",
    "\n",
    "\n",
    "def find_normalisation_constant(possible_states):\n",
    "    \"\"\"\n",
    "    This function allows to determine the normalisation constant of the\n",
    "    stationary distribution.\n",
    "\n",
    "    Args:\n",
    "    - possible_states: np.array of shape nx4 which represents the\n",
    "...                      possible states of the system.\n",
    "\n",
    "    Returns:\n",
    "    - K: normalisation constant of the stationary distribution.\n",
    "    \"\"\"\n",
    "\n",
    "    K = 0\n",
    "    for states in possible_states:\n",
    "        # Compute the stationary probability of the current state\n",
    "        fact_states = math.factorial(states[0]) * math.factorial(states[1]) * math.factorial(states[2]) * math.factorial(states[3])\n",
    "        pi = 1/fact_states * np.prod(alphas**states)\n",
    "        K += pi\n",
    "    \n",
    "    return K\n",
    "\n",
    "\n",
    "\n",
    "def stationary_distribution(states, K):\n",
    "    \"\"\"\n",
    "    This function allows to determine the stationary distribution of\n",
    "    our model.\n",
    "\n",
    "    Args:\n",
    "    - states: np.array of shape nx4 which represents the possible\n",
    "...           states of the system.\n",
    "    - K: normalisation constant of the stationary distribution.\n",
    "    \n",
    "    Returns:\n",
    "    - pi: np.array of shape nx1 which represents the stationary\n",
    "...         distribution of the system.\n",
    "    \"\"\"\n",
    "\n",
    "    pi = []\n",
    "    for state in states:\n",
    "        # Compute the stationary probability of the current state\n",
    "        fact_state = math.factorial(state[0]) * math.factorial(state[1]) * math.factorial(state[2]) * math.factorial(state[3])\n",
    "        pi.append(1/(fact_state*K) * np.prod(alphas**state))\n",
    "    \n",
    "    return np.array(pi)"
   ]
  },
  {
   "cell_type": "code",
   "execution_count": 261,
   "id": "fe61bb11",
   "metadata": {},
   "outputs": [
    {
     "name": "stdout",
     "output_type": "stream",
     "text": [
      "Possible states: \n",
      " [[ 0  0  0 50]\n",
      " [ 0  0  1 49]\n",
      " [ 0  0  2 48]\n",
      " ...\n",
      " [49  0  1  0]\n",
      " [49  1  0  0]\n",
      " [50  0  0  0]] \n",
      "\n",
      "Normalisation constant for stationary distribution:   3.2879494166333625e-65 \n",
      "\n",
      "[4.46575635e-36 6.69863452e-35 4.92349637e-34 ... 4.90622162e-15\n",
      " 2.04425901e-14 8.31877132e-16]\n"
     ]
    }
   ],
   "source": [
    "states = np.arange(num_scooters+1)\n",
    "\n",
    "# Find the possible states of the system\n",
    "possibilities = possible_states(states, num_scooters)\n",
    "print(\"Possible states: \\n\", possibilities, \"\\n\")\n",
    "\n",
    "# Find the normalisation constant of the stationary distribution\n",
    "K = find_normalisation_constant(possibilities)\n",
    "print(\"Normalisation constant for stationary distribution:  \", K, \"\\n\")\n",
    "\n",
    "# Find the stationary distribution of the system\n",
    "pi = stationary_distribution(possibilities, K)\n",
    "print(pi)"
   ]
  },
  {
   "cell_type": "code",
   "execution_count": 263,
   "id": "capable-boost",
   "metadata": {},
   "outputs": [
    {
     "name": "stdout",
     "output_type": "stream",
     "text": [
      "Possible states: \n",
      " [[ 0  0  0 50]\n",
      " [ 0  0  1 49]\n",
      " [ 0  0  2 48]\n",
      " ...\n",
      " [49  0  1  0]\n",
      " [49  1  0  0]\n",
      " [50  0  0  0]] \n",
      "\n",
      "Count of each state: \n",
      " [0.         0.         0.         ... 0.         0.00184502 0.00184502]\n"
     ]
    }
   ],
   "source": [
    "# MAYBE A WAY TO DO IT\n",
    "# Calculate the number of times the system is in each state\n",
    "# Normalize by the total number of states\n",
    "def number_states(states_sim, possible_states):\n",
    "    \"\"\"\n",
    "    This function allows to determine the number of times the system\n",
    "    is in each state.\n",
    "\n",
    "    Args:\n",
    "    - states_sim: np.array of shape nx4 which represents the change of\n",
    "...               state of the system through time.\n",
    "    - possible_states: np.array of shape nx4 which represents the\n",
    "...                    possible states of the system.\n",
    "\n",
    "    Returns:\n",
    "    - states_count: np.array of shape nx1 which represents the number\n",
    "    \"\"\"\n",
    "    states_count = []\n",
    "    for state in possible_states:\n",
    "        count = np.sum(np.all(states_sim == state, axis=1))\n",
    "        states_count.append(count)\n",
    "    \n",
    "    states_count = np.array(states_count)\n",
    "    # Normalise by count of all states\n",
    "    states_count = states_count/len(states_sim)\n",
    "    \n",
    "    return states_count\n",
    "\n",
    "# Do it only for far in time states (where it becames more stationary)\n",
    "states_count = number_states(states_sim[:-500], possibilities)\n",
    "print(\"Possible states: \\n\", possibilities, \"\\n\")\n",
    "print(\"Count of each state: \\n\", states_count)\n"
   ]
  },
  {
   "cell_type": "code",
   "execution_count": 264,
   "id": "53af11eb",
   "metadata": {},
   "outputs": [
    {
     "name": "stdout",
     "output_type": "stream",
     "text": [
      "0.06272819025652296\n"
     ]
    }
   ],
   "source": [
    "dif = np.add(states_count,-pi)\n",
    "print(np.max(dif))"
   ]
  },
  {
   "cell_type": "markdown",
   "id": "heavy-privilege",
   "metadata": {},
   "source": [
    "<h2 style='color: #026be3;'>Question 6</h2>\n",
    "<p style='color: #026be3;'>What should be changed in the model if we finally consider that there is a finite number of service providers $n_p$ and a finite number of technicians $n_t$?</p>"
   ]
  },
  {
   "cell_type": "markdown",
   "id": "4e8a91c2",
   "metadata": {},
   "source": [
    "What would change in this model if we consider that there is a finite number of service providers $n_p$ and a finite number of technicians $n_t$ is that for the transition from the state \"Broken down\" to the state \"Available\" we would have to take into account the number of technicians available to repair the scooters. The same would apply for the transition from the state \"Battery empty\" to the state \"Available\" where we would have to take into account the number of service providers available to recharge the scooters.\n",
    "\n",
    "Resulting in changing the transition rates from the state \"Broken down\" to the state \"Available\" and from the state \"Battery empty\" to the state \"Available\". Modifing, $\\phi_3$ and $\\phi_4$ respectively to the following:\n",
    "\n",
    "$ \\phi_3 = n_{tdisp} $ and $ \\phi_4 = n_{pdisp} $\n",
    "\n",
    "Being $n_{tdisp}$ and $n_{pdisp}$ the number of technicians and service providers available to repair and recharge the scooters respectively.\n"
   ]
  },
  {
   "cell_type": "code",
   "execution_count": null,
   "id": "df3ea27c",
   "metadata": {},
   "outputs": [],
   "source": []
  }
 ],
 "metadata": {
  "kernelspec": {
   "display_name": "Python 3 (ipykernel)",
   "language": "python",
   "name": "python3"
  },
  "language_info": {
   "codemirror_mode": {
    "name": "ipython",
    "version": 3
   },
   "file_extension": ".py",
   "mimetype": "text/x-python",
   "name": "python",
   "nbconvert_exporter": "python",
   "pygments_lexer": "ipython3",
   "version": "3.10.6"
  }
 },
 "nbformat": 4,
 "nbformat_minor": 5
}
