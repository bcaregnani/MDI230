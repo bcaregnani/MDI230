{
 "cells": [
  {
   "attachments": {},
   "cell_type": "markdown",
   "id": "limited-lawrence",
   "metadata": {},
   "source": [
    "# Projet Trottinettes\n",
    "\n",
    "**MDI230 - Files d'attente**\n",
    "\n",
    "S2-P4 2022/23\n",
    "\n",
    "* MONTES, Julia Soledad.\n",
    "* PARAFATI, Mauro.\n",
    "* PONS, Bruno."
   ]
  },
  {
   "attachments": {},
   "cell_type": "markdown",
   "id": "interesting-vocabulary",
   "metadata": {},
   "source": [
    "## 1. Modalités\n",
    "\n",
    "Le travail peut se faire en monôme, binôme, ou trinôme. Les groupes ne peuvent pas changer pendant la durée du projet ou d’un projet à l’autre. Vous pouvez faire la simulation dans le langage de votre choix, nous vous conseillons Python ou Matlab. Une attention toute particulière sera donnée à la rédaction de vos rapports. Par exemple, un bout de code Python non explicité par ailleurs ne donnera aucun point. Le format privilégié est Jupyter notebook qui donne la possibilité d’intégrer à la fois le code Python, les calculs théoriques en Markdown, et la rédaction. Nous rappelons que le plagiat est interdit. Tout plagiat partiel ou total entre étudiants de l’UE, ou sur des ressources extérieures sera sanctionné par la note de 0, et pourra faire l’objet d’un signalement à la Direction de l’Enseignement pour une sanction plus forte. L’inscription au groupe et les rendus se font exclusivement sur le site pédagogique eCampus de l’UE. La date limite pour le rendu est le 27 juin 2023 à 23h59."
   ]
  },
  {
   "attachments": {},
   "cell_type": "markdown",
   "id": "horizontal-adams",
   "metadata": {},
   "source": [
    "## 2. Présentation\n",
    "\n",
    "On considère un système de **trottinettes électriques** en libres services :\n",
    "\n",
    "* Les trottinettes peuvent être empruntées et déposées n’importe où.\n",
    "* Lorsqu’une trottinette a sa batterie vide, un prestataire vient la chercher pour la recharger.\n",
    "* Lorsqu’une trottinette est en panne, un technicien vient la chercher pour la réparer.\n",
    "* Il y a une flotte de $N$ trottinettes.\n",
    "* Le taux d’emprunt moyen est de $λ$ trottinettes par minute.\n",
    "* On note $t_{trajet}$ le temps moyen d’un trajet par un utilisateur.\n",
    "* On considère que chaque trottinette a une probabilité $p_{panne}$ de tomber en panne et une probabilité $p_{vide}$ d’avoir sa batterie vide lorsqu’elle est utilisée.\n",
    "* On suppose qu’une trottinette non utilisée ne peut pas tomber en panne ou avoir une batterie vide. \n",
    "* On note enfin $t_{intervention}$ le temps moyen d’intervention d’un prestataire ou d’un technicien, $t_{recharge}$ le temps moyen de recharge de la batterie d’une trottinette, et $t_{réparation}$ le temps moyen de réparation pour une trottinette.\n",
    "* On considère qu’il y a suffisamment de prestataires et de techniciens pour chercher, charger et réparer les trottinettes qui en ont besoin simultanément.\n",
    "* On suppose que les trottinettes sont toujours réparables."
   ]
  },
  {
   "attachments": {},
   "cell_type": "markdown",
   "id": "julian-ratio",
   "metadata": {},
   "source": [
    "## 3. Valeurs numériques des paramètres\n",
    "\n",
    "Les valeurs numériques des paramètres sont données ci-dessous :\n",
    "\n",
    "* $N = 100$\n",
    "* $λ = 0.1 \\text{ min}^{−1}$\n",
    "* $t_{trajet} = 5 \\text{ min}$\n",
    "* $p_{panne} = 0.01$\n",
    "* $p_{vide} = 0.1$\n",
    "* $t_{intervention} = 30 \\text{ min}$\n",
    "* $t_{recharge} = 240 \\text{ min}$\n",
    "* $t_{réparation} = 720 \\text{ min}$"
   ]
  },
  {
   "cell_type": "code",
   "execution_count": 5,
   "id": "bec52f1e",
   "metadata": {},
   "outputs": [],
   "source": [
    "N = 100 #Number of scooters\n",
    "λ = 0.1  #Average borrowing rate per minute (in min ^-1)\n",
    "t_journey = 5 #Average journey time by one user (in min)\n",
    "p_breakdown = 0.01 #Probability of breakdown\n",
    "p_empty = 0.1 #Probability of having its battery empty while it is being used\n",
    "t_intervention = 30 #Average time of intervention taken  by a service provider or technician (in min)\n",
    "t_recharge = 240 #Average time taken to recharge the battery of a scooter (in min)\n",
    "t_repair = 720 #Average repair time for a scooter (in min)"
   ]
  },
  {
   "cell_type": "code",
   "execution_count": 6,
   "id": "4e48afbc",
   "metadata": {},
   "outputs": [],
   "source": [
    "import numpy as np\n",
    "import scipy.stats\n",
    "import matplotlib.pyplot as plt\n",
    "import statistics \n",
    "import graphviz"
   ]
  },
  {
   "attachments": {},
   "cell_type": "markdown",
   "id": "corporate-lithuania",
   "metadata": {},
   "source": [
    "## 4. Travail à effectuer"
   ]
  },
  {
   "attachments": {},
   "cell_type": "markdown",
   "id": "atmospheric-retrieval",
   "metadata": {},
   "source": [
    "### 1. Proposez un processus de Markov permettant de modéliser ce système à partir d’un modèle vu en cours. Vous préciserez l’espace d’état et les différents paramètres du système, vous pouvez vous aider d’un diagramme de transitions."
   ]
  },
  {
   "attachments": {},
   "cell_type": "markdown",
   "id": "4f42a866",
   "metadata": {},
   "source": [
    "To model the self-service electric scooter system as a Markov process we used the colonies model. Where each colony, represents the different state a scooter can be in. The possible states in this system are as follows:\n",
    "\n",
    "- Available : The scooter is available for borrowing and is in working condition.\n",
    "- In use: The scooter has been borrowed and is currently in use by a user.\n",
    "- Broken down: The scooter has encountered a breakdown and requires repair.\n",
    "- Battery empty: The scooter's battery has been depleted and needs to be recharged."
   ]
  },
  {
   "cell_type": "code",
   "execution_count": 3,
   "id": "innocent-coaching",
   "metadata": {},
   "outputs": [
    {
     "data": {
      "image/svg+xml": [
       "<?xml version=\"1.0\" encoding=\"UTF-8\" standalone=\"no\"?>\n",
       "<!DOCTYPE svg PUBLIC \"-//W3C//DTD SVG 1.1//EN\"\n",
       " \"http://www.w3.org/Graphics/SVG/1.1/DTD/svg11.dtd\">\n",
       "<!-- Generated by graphviz version 2.43.0 (0)\n",
       " -->\n",
       "<!-- Title: %3 Pages: 1 -->\n",
       "<svg width=\"335pt\" height=\"218pt\"\n",
       " viewBox=\"0.00 0.00 335.49 218.00\" xmlns=\"http://www.w3.org/2000/svg\" xmlns:xlink=\"http://www.w3.org/1999/xlink\">\n",
       "<g id=\"graph0\" class=\"graph\" transform=\"scale(1 1) rotate(0) translate(4 214)\">\n",
       "<title>%3</title>\n",
       "<polygon fill=\"white\" stroke=\"transparent\" points=\"-4,4 -4,-214 331.49,-214 331.49,4 -4,4\"/>\n",
       "<!-- A -->\n",
       "<g id=\"node1\" class=\"node\">\n",
       "<title>A</title>\n",
       "<ellipse fill=\"none\" stroke=\"black\" cx=\"100.49\" cy=\"-192\" rx=\"53.09\" ry=\"18\"/>\n",
       "<text text-anchor=\"middle\" x=\"100.49\" y=\"-188.3\" font-family=\"Times,serif\" font-size=\"14.00\">Available</text>\n",
       "</g>\n",
       "<!-- U -->\n",
       "<g id=\"node2\" class=\"node\">\n",
       "<title>U</title>\n",
       "<ellipse fill=\"none\" stroke=\"black\" cx=\"118.49\" cy=\"-105\" rx=\"38.99\" ry=\"18\"/>\n",
       "<text text-anchor=\"middle\" x=\"118.49\" y=\"-101.3\" font-family=\"Times,serif\" font-size=\"14.00\">In use</text>\n",
       "</g>\n",
       "<!-- A&#45;&gt;U -->\n",
       "<g id=\"edge1\" class=\"edge\">\n",
       "<title>A&#45;&gt;U</title>\n",
       "<path fill=\"none\" stroke=\"black\" d=\"M89.78,-174.09C84.96,-164.28 81.21,-151.78 85.49,-141 87.29,-136.48 89.97,-132.21 93.05,-128.31\"/>\n",
       "<polygon fill=\"black\" stroke=\"black\" points=\"95.67,-130.62 99.75,-120.85 90.46,-125.95 95.67,-130.62\"/>\n",
       "<text text-anchor=\"middle\" x=\"90.49\" y=\"-144.8\" font-family=\"Times,serif\" font-size=\"14.00\">λ</text>\n",
       "</g>\n",
       "<!-- U&#45;&gt;A -->\n",
       "<g id=\"edge2\" class=\"edge\">\n",
       "<title>U&#45;&gt;A</title>\n",
       "<path fill=\"none\" stroke=\"black\" d=\"M114.86,-123.18C112.39,-134.81 109.09,-150.42 106.27,-163.73\"/>\n",
       "<polygon fill=\"black\" stroke=\"black\" points=\"102.78,-163.29 104.14,-173.8 109.63,-164.74 102.78,-163.29\"/>\n",
       "<text text-anchor=\"middle\" x=\"203.99\" y=\"-144.8\" font-family=\"Times,serif\" font-size=\"14.00\">1 &#45; p_breakdown*p_empty</text>\n",
       "</g>\n",
       "<!-- B -->\n",
       "<g id=\"node3\" class=\"node\">\n",
       "<title>B</title>\n",
       "<ellipse fill=\"none\" stroke=\"black\" cx=\"71.49\" cy=\"-18\" rx=\"71.49\" ry=\"18\"/>\n",
       "<text text-anchor=\"middle\" x=\"71.49\" y=\"-14.3\" font-family=\"Times,serif\" font-size=\"14.00\">Broken down</text>\n",
       "</g>\n",
       "<!-- U&#45;&gt;B -->\n",
       "<g id=\"edge3\" class=\"edge\">\n",
       "<title>U&#45;&gt;B</title>\n",
       "<path fill=\"none\" stroke=\"black\" d=\"M109.21,-87.21C102.56,-75.18 93.47,-58.75 85.89,-45.03\"/>\n",
       "<polygon fill=\"black\" stroke=\"black\" points=\"88.82,-43.11 80.92,-36.05 82.7,-46.49 88.82,-43.11\"/>\n",
       "<text text-anchor=\"middle\" x=\"145.99\" y=\"-57.8\" font-family=\"Times,serif\" font-size=\"14.00\">p_breakdown</text>\n",
       "</g>\n",
       "<!-- E -->\n",
       "<g id=\"node4\" class=\"node\">\n",
       "<title>E</title>\n",
       "<ellipse fill=\"none\" stroke=\"black\" cx=\"249.49\" cy=\"-18\" rx=\"77.99\" ry=\"18\"/>\n",
       "<text text-anchor=\"middle\" x=\"249.49\" y=\"-14.3\" font-family=\"Times,serif\" font-size=\"14.00\">Battery empty</text>\n",
       "</g>\n",
       "<!-- U&#45;&gt;E -->\n",
       "<g id=\"edge4\" class=\"edge\">\n",
       "<title>U&#45;&gt;E</title>\n",
       "<path fill=\"none\" stroke=\"black\" d=\"M148.66,-93.51C163.95,-87.49 182.43,-79.12 197.49,-69 208.38,-61.69 219.06,-52 227.88,-43.09\"/>\n",
       "<polygon fill=\"black\" stroke=\"black\" points=\"230.41,-45.51 234.81,-35.87 225.36,-40.66 230.41,-45.51\"/>\n",
       "<text text-anchor=\"middle\" x=\"245.99\" y=\"-57.8\" font-family=\"Times,serif\" font-size=\"14.00\">p_empty</text>\n",
       "</g>\n",
       "<!-- B&#45;&gt;A -->\n",
       "<g id=\"edge5\" class=\"edge\">\n",
       "<title>B&#45;&gt;A</title>\n",
       "<path fill=\"none\" stroke=\"black\" d=\"M65.86,-36.24C59.9,-57.13 52.38,-93.22 60.49,-123 64.69,-138.42 73.37,-153.91 81.58,-166.2\"/>\n",
       "<polygon fill=\"black\" stroke=\"black\" points=\"78.8,-168.34 87.4,-174.54 84.55,-164.34 78.8,-168.34\"/>\n",
       "<text text-anchor=\"middle\" x=\"65.49\" y=\"-101.3\" font-family=\"Times,serif\" font-size=\"14.00\">1</text>\n",
       "</g>\n",
       "<!-- E&#45;&gt;A -->\n",
       "<g id=\"edge6\" class=\"edge\">\n",
       "<title>E&#45;&gt;A</title>\n",
       "<path fill=\"none\" stroke=\"black\" d=\"M267.48,-35.87C272.33,-41.25 277.15,-47.5 280.49,-54 344.06,-177.48 315.91,-137.66 300.49,-156 283.17,-176.62 215.26,-185.09 163.34,-188.58\"/>\n",
       "<polygon fill=\"black\" stroke=\"black\" points=\"162.95,-185.09 153.18,-189.21 163.38,-192.08 162.95,-185.09\"/>\n",
       "<text text-anchor=\"middle\" x=\"318.49\" y=\"-101.3\" font-family=\"Times,serif\" font-size=\"14.00\">1</text>\n",
       "</g>\n",
       "</g>\n",
       "</svg>\n"
      ],
      "text/plain": [
       "<graphviz.graphs.Digraph at 0x7fd6f4e355a0>"
      ]
     },
     "execution_count": 3,
     "metadata": {},
     "output_type": "execute_result"
    }
   ],
   "source": [
    "dot = graphviz.Digraph()\n",
    "\n",
    "# Define the nodes\n",
    "dot.node('A', 'Available')\n",
    "dot.node('U', 'In use')\n",
    "dot.node('B', 'Broken down')\n",
    "dot.node('E', 'Battery empty')\n",
    "\n",
    "# Define the edges with labels\n",
    "dot.edge('A', 'U', 'λ')\n",
    "dot.edge('U', 'A', '1 - p_breakdown*p_empty')\n",
    "dot.edge('U', 'B', 'p_breakdown')\n",
    "dot.edge('U', 'E', 'p_empty')\n",
    "dot.edge('B', 'A', '1')\n",
    "dot.edge('E', 'A', '1')\n",
    "\n",
    "# Render the graph\n",
    "dot"
   ]
  },
  {
   "attachments": {},
   "cell_type": "markdown",
   "id": "f1296637",
   "metadata": {},
   "source": [
    "<!-- To model the self-service electric scooter system for N scooters, we can extend the Markov process to incorporate multiple scooters. The state space will now include the states for each individual scooter. Let's denote the state space as E, where each state represents the status of all N scooters. -->\n",
    "<!-- REWRITE THE ABOVE -->\n",
    "\n",
    "To model the self-service electric scooter system for N scooters, we can use the model of Colonies.\n",
    "\n",
    "The state space E can be defined as follows:\n",
    "\n",
    "$$E = \\{n = (n_1, n_2, n_3, n_4) | \\sum_{j=1}^{4} n_j = N \\}$$\n",
    "\n",
    "Where:\n",
    "\n",
    "There are 4 colonies and $n_j$ represents the number of scooters in a certain colony, each colony is described below:\n",
    "- $1$: Colony where scooter is available.\n",
    "- $2$: Colony where scooter is in use.\n",
    "- $3$: Colony where scooter is broken down.\n",
    "- $4$: Colony where scooter has an empty battery."
   ]
  },
  {
   "attachments": {},
   "cell_type": "markdown",
   "id": "german-livestock",
   "metadata": {},
   "source": [
    "### 2. Calibrez votre modèle en explicitant vos paramètres en fonction des données de l’énoncé.\n",
    "<!-- Calibrate your model by explaining your parameters based on the data in the statement. -->"
   ]
  },
  {
   "cell_type": "code",
   "execution_count": 7,
   "id": "institutional-official",
   "metadata": {},
   "outputs": [],
   "source": [
    "## Transition rates\n",
    "# q(n, Ti,j(n)) = phi_i(n_i) * lambda_ij\n",
    "# phi_1(n_1) = n_1\n",
    "# phi_2(n_2) = n_2\n",
    "# phi_3(n_3) = n_3\n",
    "# phi_4(n_4) = n_4\n",
    "lambda_12 = λ\n",
    "lambda_21 = 1/t_journey * (1 - p_breakdown * p_empty)\n",
    "lambda_23 = 1/t_intervention * p_breakdown\n",
    "lambda_24 = 1/t_intervention * p_empty\n",
    "lambda_31 = 1/t_repair\n",
    "lambda_41 = 1/t_recharge"
   ]
  },
  {
   "attachments": {},
   "cell_type": "markdown",
   "id": "therapeutic-territory",
   "metadata": {},
   "source": [
    "###  3. Donnez l’expression de la probabilité stationnaire théorique de votre modèle."
   ]
  },
  {
   "attachments": {},
   "cell_type": "markdown",
   "id": "11473b5e",
   "metadata": {},
   "source": [
    "By theorem:\n",
    "\n",
    "Theorem 2.4\n",
    "\n",
    "The equilibrium distribution for a closed migration process is\n",
    "$$\n",
    "\\pi(n)=K^{-1} \\prod_{j=1}^J \\frac{\\alpha_j^{n_j}}{\\prod_{r=1}^{n_j} \\phi_j(r)}, \\quad n \\in E .\n",
    "$$\n",
    "Here, $K$ is a normalizing constant, chosen so the distribution sums to 1 , and $\\left(\\alpha_j\\right)$ are the solution to the traffic equations displayed below.\n",
    "\n",
    "$\\begin{gathered}\\alpha_j>0, \\quad \\sum_j \\alpha_j=1, \\\\ \\alpha_j \\sum_k \\lambda_{j k}=\\sum_k \\alpha_k \\lambda_{k j}, \\quad j=1,2, \\ldots, J .\\end{gathered}$"
   ]
  },
  {
   "cell_type": "code",
   "execution_count": 20,
   "id": "royal-pantyhose",
   "metadata": {},
   "outputs": [
    {
     "name": "stdout",
     "output_type": "stream",
     "text": [
      "[[ 0.1        -0.1998     -0.00138889 -0.00416667]\n",
      " [-0.1         0.20346667  0.          0.        ]\n",
      " [ 0.         -0.00033333  0.00138889  0.        ]\n",
      " [ 0.00333333  0.          0.00333333  0.0075    ]]\n",
      "[0.49934555 0.24541885 0.05890052 0.19633508]\n"
     ]
    }
   ],
   "source": [
    "A = np.array([[lambda_12, -lambda_21, -lambda_31 ,-lambda_41],\n",
    "              [-lambda_12,lambda_21 + lambda_23 + lambda_24, 0 ,0],\n",
    "              [0,-lambda_23,lambda_31,0],\n",
    "              [lambda_24,0,lambda_24,lambda_24 + lambda_41]] )\n",
    "alphas = np.zeros(4)\n",
    "\n",
    "alphas = np.linalg.solve(A, np.array([0,0,0,lambda_24]))\n",
    "\n",
    "print(A)\n",
    "print(alphas)"
   ]
  },
  {
   "attachments": {},
   "cell_type": "markdown",
   "id": "further-authorization",
   "metadata": {},
   "source": [
    "### 4. Simulez les trajectoires de votre modèle sur au moins 100h."
   ]
  },
  {
   "cell_type": "code",
   "execution_count": 24,
   "id": "9f0dc9d6",
   "metadata": {},
   "outputs": [
    {
     "ename": "ValueError",
     "evalue": "probabilities do not sum to 1",
     "output_type": "error",
     "traceback": [
      "\u001b[0;31m---------------------------------------------------------------------------\u001b[0m",
      "\u001b[0;31mValueError\u001b[0m                                Traceback (most recent call last)",
      "Cell \u001b[0;32mIn[24], line 2\u001b[0m\n\u001b[1;32m      1\u001b[0m state \u001b[39m=\u001b[39m np\u001b[39m.\u001b[39marray([N, \u001b[39m0\u001b[39m, \u001b[39m0\u001b[39m, \u001b[39m0\u001b[39m])\n\u001b[0;32m----> 2\u001b[0m state \u001b[39m=\u001b[39m np\u001b[39m.\u001b[39;49mrandom\u001b[39m.\u001b[39;49mchoice(state, size\u001b[39m=\u001b[39;49m(\u001b[39m1\u001b[39;49m,\u001b[39m4\u001b[39;49m), p\u001b[39m=\u001b[39;49mtransition_matrix[\u001b[39m0\u001b[39;49m])\n",
      "File \u001b[0;32mmtrand.pyx:958\u001b[0m, in \u001b[0;36mnumpy.random.mtrand.RandomState.choice\u001b[0;34m()\u001b[0m\n",
      "\u001b[0;31mValueError\u001b[0m: probabilities do not sum to 1"
     ]
    }
   ],
   "source": [
    "n_1 = N\n",
    "n_2 = 0\n",
    "n_3 = 0\n",
    "n_4 = 0\n",
    "state = np.array([n_1, n_2, n_3, n_4])\n",
    "transition_matrix = np.array([[0,lambda_12*n_1,0,0],\n",
    "                              [lambda_21*n_2,0,lambda_23*n_2,lambda_24*n_2],\n",
    "                              [lambda_31*n_3,0,0,0],\n",
    "                              [lambda_41*n_4,0,0,0]])\n",
    "for i in range(4):\n",
    "    n_1 = np.random\n",
    "state = np.random.choice(state, size=(1,4), p=transition_matrix[0])"
   ]
  },
  {
   "cell_type": "code",
   "execution_count": null,
   "id": "known-cuisine",
   "metadata": {},
   "outputs": [],
   "source": [
    "timesteps = np.arange(0, 100*60, 1)\n",
    "initial_state = np.array([N, 0, 0, 0])\n",
    "\n",
    "states = []\n",
    "states.append(initial_state)\n",
    "\n",
    "for timestep in timesteps:\n",
    "    state = np.random.choice(states, size=(1,4), p=transition_matrix)\n",
    "    state = np.random.choice(states, p=transition_matrix[states[-1]])\n",
    "    states.append(states[-1])\n",
    "\n"
   ]
  },
  {
   "attachments": {},
   "cell_type": "markdown",
   "id": "heard-highland",
   "metadata": {},
   "source": [
    "### 5. Validez votre simulation grâce aux résultats théoriques. Pour cela, on limitera le nombre de trottinettes à $N = 2$. Vous devrez proposer deux manières d’approcher la probabilité stationnaire par vos simulations. On rappelle qu’une simulation est valide si les résultats théoriques sont dans l’intervalle de confiance des résultats simulés."
   ]
  },
  {
   "cell_type": "code",
   "execution_count": null,
   "id": "capable-boost",
   "metadata": {},
   "outputs": [],
   "source": []
  },
  {
   "attachments": {},
   "cell_type": "markdown",
   "id": "heavy-privilege",
   "metadata": {},
   "source": [
    "### 6. Que faut-il changer au modèle si on considère finalement qu’il y a un nombre fini de prestataires $n_p$ et un nombre fini de techniciens $n_t$ ?"
   ]
  },
  {
   "cell_type": "code",
   "execution_count": null,
   "id": "fewer-murder",
   "metadata": {},
   "outputs": [],
   "source": []
  }
 ],
 "metadata": {
  "kernelspec": {
   "display_name": "Python 3",
   "language": "python",
   "name": "python3"
  },
  "language_info": {
   "codemirror_mode": {
    "name": "ipython",
    "version": 3
   },
   "file_extension": ".py",
   "mimetype": "text/x-python",
   "name": "python",
   "nbconvert_exporter": "python",
   "pygments_lexer": "ipython3",
   "version": "3.10.11"
  }
 },
 "nbformat": 4,
 "nbformat_minor": 5
}
