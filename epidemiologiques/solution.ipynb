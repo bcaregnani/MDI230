{
 "cells": [
  {
   "attachments": {},
   "cell_type": "markdown",
   "metadata": {},
   "source": [
    "# Project Epidemic Model\n",
    "\n",
    "**MDI230 - Files d'attente**\n",
    "\n",
    "S2-P4 2022/23\n",
    "\n",
    "* MONTES, Julia Soledad.\n",
    "* PARAFATI, Mauro.\n",
    "* PONS, Bruno."
   ]
  },
  {
   "cell_type": "code",
   "execution_count": null,
   "metadata": {},
   "outputs": [],
   "source": []
  }
 ],
 "metadata": {
  "language_info": {
   "name": "python"
  },
  "orig_nbformat": 4
 },
 "nbformat": 4,
 "nbformat_minor": 2
}
